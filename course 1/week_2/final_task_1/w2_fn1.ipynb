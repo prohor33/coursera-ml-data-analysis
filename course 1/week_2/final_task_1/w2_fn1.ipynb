{
 "cells": [
  {
   "cell_type": "markdown",
   "metadata": {},
   "source": [
    "# Задача 1: сравнение предложений"
   ]
  },
  {
   "cell_type": "code",
   "execution_count": 1,
   "metadata": {},
   "outputs": [],
   "source": [
    "import codecs"
   ]
  },
  {
   "cell_type": "code",
   "execution_count": 22,
   "metadata": {},
   "outputs": [],
   "source": [
    "file = codecs.open('sentences.txt')"
   ]
  },
  {
   "cell_type": "code",
   "execution_count": 23,
   "metadata": {},
   "outputs": [],
   "source": [
    "lines = file.readlines()"
   ]
  },
  {
   "cell_type": "code",
   "execution_count": 24,
   "metadata": {},
   "outputs": [
    {
     "data": {
      "text/plain": [
       "22"
      ]
     },
     "execution_count": 24,
     "metadata": {},
     "output_type": "execute_result"
    }
   ],
   "source": [
    "len(lines)"
   ]
  },
  {
   "cell_type": "code",
   "execution_count": 25,
   "metadata": {},
   "outputs": [],
   "source": [
    "lines = [s.lower() for s in lines]"
   ]
  },
  {
   "cell_type": "code",
   "execution_count": 26,
   "metadata": {},
   "outputs": [
    {
     "data": {
      "text/plain": [
       "22"
      ]
     },
     "execution_count": 26,
     "metadata": {},
     "output_type": "execute_result"
    }
   ],
   "source": [
    "len(lines)"
   ]
  },
  {
   "cell_type": "code",
   "execution_count": 83,
   "metadata": {},
   "outputs": [],
   "source": [
    "l = lines[2]"
   ]
  },
  {
   "cell_type": "code",
   "execution_count": 84,
   "metadata": {},
   "outputs": [
    {
     "data": {
      "text/plain": [
       "'a common interactive use of cat for a single file is to output the content of a file to standard output.\\n'"
      ]
     },
     "execution_count": 84,
     "metadata": {},
     "output_type": "execute_result"
    }
   ],
   "source": [
    "l"
   ]
  },
  {
   "cell_type": "code",
   "execution_count": 34,
   "metadata": {},
   "outputs": [],
   "source": [
    "import re"
   ]
  },
  {
   "cell_type": "code",
   "execution_count": 49,
   "metadata": {},
   "outputs": [],
   "source": [
    "all_words = dict()\n",
    "for l in lines:\n",
    "    tokens = re.split('[^a-z]', l)\n",
    "    tokens = [t for t in tokens if len(t) != 0]\n",
    "    for t in tokens:\n",
    "        if not all_words.has_key(t):\n",
    "            all_words[t] = len(all_words)"
   ]
  },
  {
   "cell_type": "code",
   "execution_count": 50,
   "metadata": {},
   "outputs": [
    {
     "data": {
      "text/plain": [
       "{'a': 33,\n",
       " 'according': 167,\n",
       " 'adjacent': 114,\n",
       " 'allow': 185,\n",
       " 'allows': 196,\n",
       " 'also': 24,\n",
       " 'an': 230,\n",
       " 'ancestor': 77,\n",
       " 'and': 58,\n",
       " 'animals': 61,\n",
       " 'any': 152,\n",
       " 'app': 208,\n",
       " 'apple': 168,\n",
       " 'are': 78,\n",
       " 'arguments': 153,\n",
       " 'artificial': 66,\n",
       " 'as': 14,\n",
       " 'available': 164,\n",
       " 'based': 200,\n",
       " 'basic': 136,\n",
       " 'be': 23,\n",
       " 'between': 95,\n",
       " 'binary': 27,\n",
       " 'both': 79,\n",
       " 'by': 56,\n",
       " 'bytes': 20,\n",
       " 'can': 22,\n",
       " 'cat': 15,\n",
       " 'catenates': 17,\n",
       " 'cats': 4,\n",
       " 'changes': 9,\n",
       " 'chromosomes': 84,\n",
       " 'clear': 130,\n",
       " 'closest': 75,\n",
       " 'command': 135,\n",
       " 'commands': 125,\n",
       " 'common': 34,\n",
       " 'community': 193,\n",
       " 'comparison': 1,\n",
       " 'computers': 178,\n",
       " 'concatenate': 26,\n",
       " 'concern': 107,\n",
       " 'connected': 127,\n",
       " 'contains': 169,\n",
       " 'content': 42,\n",
       " 'count': 253,\n",
       " 'create': 242,\n",
       " 'default': 109,\n",
       " 'delete': 119,\n",
       " 'deliberately': 64,\n",
       " 'developed': 194,\n",
       " 'diploid': 80,\n",
       " 'disk': 244,\n",
       " 'displays': 155,\n",
       " 'dogs': 3,\n",
       " 'domestic': 87,\n",
       " 'domesticated': 73,\n",
       " 'domestication': 12,\n",
       " 'download': 205,\n",
       " 'drive': 248,\n",
       " 'during': 10,\n",
       " 'ears': 52,\n",
       " 'editions': 166,\n",
       " 'enhancements': 171,\n",
       " 'entirely': 235,\n",
       " 'error': 106,\n",
       " 'every': 215,\n",
       " 'external': 247,\n",
       " 'factory': 180,\n",
       " 'faint': 47,\n",
       " 'features': 251,\n",
       " 'felis': 92,\n",
       " 'fifth': 249,\n",
       " 'file': 39,\n",
       " 'files': 28,\n",
       " 'firmware': 179,\n",
       " 'flow': 133,\n",
       " 'for': 37,\n",
       " 'frequency': 50,\n",
       " 'from': 146,\n",
       " 'genes': 86,\n",
       " 'genus': 91,\n",
       " 'has': 129,\n",
       " 'have': 5,\n",
       " 'hear': 44,\n",
       " 'high': 49,\n",
       " 'however': 98,\n",
       " 'human': 51,\n",
       " 'if': 99,\n",
       " 'in': 0,\n",
       " 'incremental': 231,\n",
       " 'information': 134,\n",
       " 'installation': 186,\n",
       " 'installed': 181,\n",
       " 'installs': 236,\n",
       " 'instead': 112,\n",
       " 'intel': 189,\n",
       " 'interactive': 35,\n",
       " 'is': 40,\n",
       " 'it': 21,\n",
       " 'its': 74,\n",
       " 'july': 203,\n",
       " 'just': 31,\n",
       " 'keyboards': 116,\n",
       " 'kg': 96,\n",
       " 'later': 197,\n",
       " 'lb': 97,\n",
       " 'learned': 137,\n",
       " 'left': 131,\n",
       " 'legibility': 124,\n",
       " 'leopard': 157,\n",
       " 'lines': 144,\n",
       " 'linux': 141,\n",
       " 'lion': 202,\n",
       " 'longer': 184,\n",
       " 'mac': 173,\n",
       " 'made': 55,\n",
       " 'major': 8,\n",
       " 'marks': 226,\n",
       " 'mavericks': 224,\n",
       " 'may': 117,\n",
       " 'members': 90,\n",
       " 'mice': 57,\n",
       " 'mid': 176,\n",
       " 'more': 252,\n",
       " 'most': 219,\n",
       " 'mountain': 201,\n",
       " 'moved': 188,\n",
       " 'named': 104,\n",
       " 'need': 241,\n",
       " 'needing': 121,\n",
       " 'new': 148,\n",
       " 'no': 183,\n",
       " 'non': 199,\n",
       " 'not': 6,\n",
       " 'now': 195,\n",
       " 'october': 160,\n",
       " 'of': 19,\n",
       " 'off': 246,\n",
       " 'offered': 229,\n",
       " 'often': 113,\n",
       " 'on': 115,\n",
       " 'one': 62,\n",
       " 'online': 214,\n",
       " 'or': 48,\n",
       " 'organisms': 81,\n",
       " 'os': 174,\n",
       " 'osx': 192,\n",
       " 'other': 59,\n",
       " 'output': 41,\n",
       " 'over': 170,\n",
       " 'part': 210,\n",
       " 'patch': 217,\n",
       " 'people': 63,\n",
       " 'permanently': 118,\n",
       " 'piped': 100,\n",
       " 'pipes': 128,\n",
       " 'place': 237,\n",
       " 'possess': 83,\n",
       " 'predators': 71,\n",
       " 'predecessor': 172,\n",
       " 'process': 13,\n",
       " 'processors': 190,\n",
       " 'purchase': 204,\n",
       " 'rather': 233,\n",
       " 'read': 122,\n",
       " 'received': 145,\n",
       " 'receives': 154,\n",
       " 'recent': 220,\n",
       " 'redirected': 101,\n",
       " 'redirection': 110,\n",
       " 'release': 225,\n",
       " 'released': 159,\n",
       " 'releases': 198,\n",
       " 'releasing': 212,\n",
       " 'right': 132,\n",
       " 'roughly': 85,\n",
       " 'run': 245,\n",
       " 'running': 222,\n",
       " 's': 207,\n",
       " 'safari': 221,\n",
       " 'safer': 105,\n",
       " 'second': 227,\n",
       " 'selection': 67,\n",
       " 'separate': 243,\n",
       " 'sequence': 32,\n",
       " 'similar': 88,\n",
       " 'simply': 16,\n",
       " 'since': 187,\n",
       " 'single': 38,\n",
       " 'size': 89,\n",
       " 'small': 60,\n",
       " 'so': 238,\n",
       " 'some': 177,\n",
       " 'sounds': 45,\n",
       " 'standard': 43,\n",
       " 'started': 139,\n",
       " 'starting': 126,\n",
       " 'stdin': 147,\n",
       " 'stdout': 156,\n",
       " 'store': 209,\n",
       " 'streams': 18,\n",
       " 'successor': 161,\n",
       " 'such': 53,\n",
       " 'switch': 211,\n",
       " 'symbol': 111,\n",
       " 'symbols': 149,\n",
       " 't': 240,\n",
       " 'tamed': 65,\n",
       " 'terms': 123,\n",
       " 'than': 234,\n",
       " 'that': 82,\n",
       " 'the': 11,\n",
       " 'their': 191,\n",
       " 'they': 68,\n",
       " 'those': 54,\n",
       " 'three': 218,\n",
       " 'through': 206,\n",
       " 'tiger': 162,\n",
       " 'time': 228,\n",
       " 'to': 2,\n",
       " 'too': 46,\n",
       " 'two': 165,\n",
       " 'type': 150,\n",
       " 'typically': 93,\n",
       " 'undergone': 7,\n",
       " 'unix': 140,\n",
       " 'unnecessary': 102,\n",
       " 'update': 250,\n",
       " 'upgrade': 232,\n",
       " 'use': 36,\n",
       " 'used': 25,\n",
       " 'useful': 70,\n",
       " 'using': 143,\n",
       " 'vermin': 72,\n",
       " 'version': 163,\n",
       " 'versions': 213,\n",
       " 'was': 158,\n",
       " 'weighing': 94,\n",
       " 'were': 69,\n",
       " 'when': 138,\n",
       " 'where': 29,\n",
       " 'which': 182,\n",
       " 'wild': 76,\n",
       " 'will': 30,\n",
       " 'with': 103,\n",
       " 'without': 151,\n",
       " 'won': 239,\n",
       " 'world': 142,\n",
       " 'wrong': 108,\n",
       " 'x': 175,\n",
       " 'year': 216,\n",
       " 'yosemite': 223,\n",
       " 'you': 120}"
      ]
     },
     "execution_count": 50,
     "metadata": {},
     "output_type": "execute_result"
    }
   ],
   "source": [
    "all_words"
   ]
  },
  {
   "cell_type": "code",
   "execution_count": 51,
   "metadata": {},
   "outputs": [],
   "source": [
    "import numpy as np"
   ]
  },
  {
   "cell_type": "code",
   "execution_count": 55,
   "metadata": {},
   "outputs": [
    {
     "data": {
      "text/plain": [
       "254"
      ]
     },
     "execution_count": 55,
     "metadata": {},
     "output_type": "execute_result"
    }
   ],
   "source": [
    "len(all_words)"
   ]
  },
  {
   "cell_type": "code",
   "execution_count": 77,
   "metadata": {},
   "outputs": [
    {
     "data": {
      "text/plain": [
       "(22, 254)"
      ]
     },
     "execution_count": 77,
     "metadata": {},
     "output_type": "execute_result"
    }
   ],
   "source": [
    "m = np.zeros((len(lines), len(all_words)), dtype=int)\n",
    "m.shape"
   ]
  },
  {
   "cell_type": "code",
   "execution_count": 78,
   "metadata": {},
   "outputs": [],
   "source": [
    "for l_i, l in enumerate(lines):\n",
    "    tokens = re.split('[^a-z]', l)\n",
    "    tokens = [t for t in tokens if len(t) != 0]\n",
    "    for t in tokens:\n",
    "        t_i = all_words[t]\n",
    "        m[l_i][t_i] += 1"
   ]
  },
  {
   "cell_type": "code",
   "execution_count": 79,
   "metadata": {},
   "outputs": [
    {
     "data": {
      "text/plain": [
       "array([[1, 1, 1, ..., 0, 0, 0],\n",
       "       [0, 0, 1, ..., 0, 0, 0],\n",
       "       [0, 0, 2, ..., 0, 0, 0],\n",
       "       ...,\n",
       "       [0, 0, 0, ..., 0, 0, 0],\n",
       "       [1, 0, 1, ..., 0, 0, 0],\n",
       "       [0, 0, 1, ..., 1, 1, 1]])"
      ]
     },
     "execution_count": 79,
     "metadata": {},
     "output_type": "execute_result"
    }
   ],
   "source": [
    "m"
   ]
  },
  {
   "cell_type": "code",
   "execution_count": 82,
   "metadata": {},
   "outputs": [
    {
     "name": "stdout",
     "output_type": "stream",
     "text": [
      "to\n"
     ]
    }
   ],
   "source": [
    "for t, n in all_words.iteritems():\n",
    "    if n == 2:\n",
    "        print(t)"
   ]
  },
  {
   "cell_type": "code",
   "execution_count": 85,
   "metadata": {},
   "outputs": [
    {
     "data": {
      "text/plain": [
       "(22, 254)"
      ]
     },
     "execution_count": 85,
     "metadata": {},
     "output_type": "execute_result"
    }
   ],
   "source": [
    "m.shape"
   ]
  },
  {
   "cell_type": "code",
   "execution_count": 86,
   "metadata": {},
   "outputs": [],
   "source": [
    "import scipy"
   ]
  },
  {
   "cell_type": "code",
   "execution_count": 89,
   "metadata": {},
   "outputs": [],
   "source": [
    "from scipy import spatial"
   ]
  },
  {
   "cell_type": "code",
   "execution_count": 102,
   "metadata": {},
   "outputs": [],
   "source": [
    "from sortedcontainers import SortedList"
   ]
  },
  {
   "cell_type": "code",
   "execution_count": 162,
   "metadata": {},
   "outputs": [
    {
     "name": "stdout",
     "output_type": "stream",
     "text": [
      "0  :  0.0\n",
      "1  :  0.9527544408738466\n",
      "2  :  0.8644738145642124\n",
      "3  :  0.8951715163278082\n",
      "4  :  0.7770887149698589\n",
      "5  :  0.9402385695332803\n",
      "6  :  0.7327387580875756\n",
      "7  :  0.9258750683338899\n",
      "8  :  0.8842724875284311\n",
      "9  :  0.9055088817476932\n",
      "10  :  0.8328165362273942\n",
      "11  :  0.8804771390665607\n",
      "12  :  0.8396432548525454\n",
      "13  :  0.8703592552895671\n",
      "14  :  0.8740118423302576\n",
      "15  :  0.9442721787424647\n",
      "16  :  0.8406361854220809\n",
      "17  :  0.956644501523794\n",
      "18  :  0.9442721787424647\n",
      "19  :  0.8885443574849294\n",
      "20  :  0.8427572744917122\n",
      "21  :  0.8250364469440588\n"
     ]
    },
    {
     "data": {
      "text/plain": [
       "SortedList([(0.0, 0), (0.7327387580875756, 6), (0.7770887149698589, 4), (0.8250364469440588, 21), (0.8328165362273942, 10), (0.8396432548525454, 12), (0.8406361854220809, 16), (0.8427572744917122, 20), (0.8644738145642124, 2), (0.8703592552895671, 13), (0.8740118423302576, 14), (0.8804771390665607, 11), (0.8842724875284311, 8), (0.8885443574849294, 19), (0.8951715163278082, 3), (0.9055088817476932, 9), (0.9258750683338899, 7), (0.9402385695332803, 5), (0.9442721787424647, 15), (0.9442721787424647, 18), (0.9527544408738466, 1), (0.956644501523794, 17)])"
      ]
     },
     "execution_count": 162,
     "metadata": {},
     "output_type": "execute_result"
    }
   ],
   "source": [
    "dist = SortedList()\n",
    "for row_i, row in enumerate(m):\n",
    "    cos = scipy.spatial.distance.cosine(m[0], row)\n",
    "    print row_i, ' : ', cos\n",
    "    dist.add((cos, row_i))\n",
    "dist"
   ]
  },
  {
   "cell_type": "code",
   "execution_count": 107,
   "metadata": {},
   "outputs": [
    {
     "data": {
      "text/plain": [
       "'in comparison to dogs, cats have not undergone major changes during the domestication process.\\n'"
      ]
     },
     "execution_count": 107,
     "metadata": {},
     "output_type": "execute_result"
    }
   ],
   "source": [
    "lines[0]"
   ]
  },
  {
   "cell_type": "code",
   "execution_count": 156,
   "metadata": {},
   "outputs": [
    {
     "data": {
      "text/plain": [
       "'domestic cats are similar in size to the other members of the genus felis, typically weighing between 4 and 5 kg (8.8 and 11.0 lb).\\n'"
      ]
     },
     "execution_count": 156,
     "metadata": {},
     "output_type": "execute_result"
    }
   ],
   "source": [
    "lines[6]"
   ]
  },
  {
   "cell_type": "code",
   "execution_count": 168,
   "metadata": {},
   "outputs": [
    {
     "data": {
      "text/plain": [
       "array([1, 1, 1, 1, 1, 1, 1, 1, 1, 1, 1, 1, 1, 1, 0, 0, 0, 0, 0, 0, 0, 0,\n",
       "       0, 0, 0, 0, 0, 0, 0, 0, 0, 0, 0, 0, 0, 0, 0, 0, 0, 0, 0, 0, 0, 0,\n",
       "       0, 0, 0, 0, 0, 0, 0, 0, 0, 0, 0, 0, 0, 0, 0, 0, 0, 0, 0, 0, 0, 0,\n",
       "       0, 0, 0, 0, 0, 0, 0, 0, 0, 0, 0, 0, 0, 0, 0, 0, 0, 0, 0, 0, 0, 0,\n",
       "       0, 0, 0, 0, 0, 0, 0, 0, 0, 0, 0, 0, 0, 0, 0, 0, 0, 0, 0, 0, 0, 0,\n",
       "       0, 0, 0, 0, 0, 0, 0, 0, 0, 0, 0, 0, 0, 0, 0, 0, 0, 0, 0, 0, 0, 0,\n",
       "       0, 0, 0, 0, 0, 0, 0, 0, 0, 0, 0, 0, 0, 0, 0, 0, 0, 0, 0, 0, 0, 0,\n",
       "       0, 0, 0, 0, 0, 0, 0, 0, 0, 0, 0, 0, 0, 0, 0, 0, 0, 0, 0, 0, 0, 0,\n",
       "       0, 0, 0, 0, 0, 0, 0, 0, 0, 0, 0, 0, 0, 0, 0, 0, 0, 0, 0, 0, 0, 0,\n",
       "       0, 0, 0, 0, 0, 0, 0, 0, 0, 0, 0, 0, 0, 0, 0, 0, 0, 0, 0, 0, 0, 0,\n",
       "       0, 0, 0, 0, 0, 0, 0, 0, 0, 0, 0, 0, 0, 0, 0, 0, 0, 0, 0, 0, 0, 0,\n",
       "       0, 0, 0, 0, 0, 0, 0, 0, 0, 0, 0, 0])"
      ]
     },
     "execution_count": 168,
     "metadata": {},
     "output_type": "execute_result"
    }
   ],
   "source": [
    "m[0]"
   ]
  },
  {
   "cell_type": "code",
   "execution_count": 169,
   "metadata": {},
   "outputs": [
    {
     "data": {
      "text/plain": [
       "array([1, 0, 1, 0, 1, 0, 0, 0, 0, 0, 0, 2, 0, 0, 0, 0, 0, 0, 0, 1, 0, 0,\n",
       "       0, 0, 0, 0, 0, 0, 0, 0, 0, 0, 0, 0, 0, 0, 0, 0, 0, 0, 0, 0, 0, 0,\n",
       "       0, 0, 0, 0, 0, 0, 0, 0, 0, 0, 0, 0, 0, 0, 2, 1, 0, 0, 0, 0, 0, 0,\n",
       "       0, 0, 0, 0, 0, 0, 0, 0, 0, 0, 0, 0, 1, 0, 0, 0, 0, 0, 0, 0, 0, 1,\n",
       "       1, 1, 1, 1, 1, 1, 1, 1, 1, 1, 0, 0, 0, 0, 0, 0, 0, 0, 0, 0, 0, 0,\n",
       "       0, 0, 0, 0, 0, 0, 0, 0, 0, 0, 0, 0, 0, 0, 0, 0, 0, 0, 0, 0, 0, 0,\n",
       "       0, 0, 0, 0, 0, 0, 0, 0, 0, 0, 0, 0, 0, 0, 0, 0, 0, 0, 0, 0, 0, 0,\n",
       "       0, 0, 0, 0, 0, 0, 0, 0, 0, 0, 0, 0, 0, 0, 0, 0, 0, 0, 0, 0, 0, 0,\n",
       "       0, 0, 0, 0, 0, 0, 0, 0, 0, 0, 0, 0, 0, 0, 0, 0, 0, 0, 0, 0, 0, 0,\n",
       "       0, 0, 0, 0, 0, 0, 0, 0, 0, 0, 0, 0, 0, 0, 0, 0, 0, 0, 0, 0, 0, 0,\n",
       "       0, 0, 0, 0, 0, 0, 0, 0, 0, 0, 0, 0, 0, 0, 0, 0, 0, 0, 0, 0, 0, 0,\n",
       "       0, 0, 0, 0, 0, 0, 0, 0, 0, 0, 0, 0])"
      ]
     },
     "execution_count": 169,
     "metadata": {},
     "output_type": "execute_result"
    }
   ],
   "source": [
    "m[6]"
   ]
  },
  {
   "cell_type": "code",
   "execution_count": 175,
   "metadata": {},
   "outputs": [],
   "source": [
    "def equal_words(line_i):\n",
    "    return [i for i, x in enumerate(m[0]) if x != 0 and m[line_i][i] != 0]"
   ]
  },
  {
   "cell_type": "code",
   "execution_count": 184,
   "metadata": {},
   "outputs": [
    {
     "data": {
      "text/plain": [
       "{0: 'in',\n",
       " 1: 'comparison',\n",
       " 2: 'to',\n",
       " 3: 'dogs',\n",
       " 4: 'cats',\n",
       " 5: 'have',\n",
       " 6: 'not',\n",
       " 7: 'undergone',\n",
       " 8: 'major',\n",
       " 9: 'changes',\n",
       " 10: 'during',\n",
       " 11: 'the',\n",
       " 12: 'domestication',\n",
       " 13: 'process',\n",
       " 14: 'as',\n",
       " 15: 'cat',\n",
       " 16: 'simply',\n",
       " 17: 'catenates',\n",
       " 18: 'streams',\n",
       " 19: 'of',\n",
       " 20: 'bytes',\n",
       " 21: 'it',\n",
       " 22: 'can',\n",
       " 23: 'be',\n",
       " 24: 'also',\n",
       " 25: 'used',\n",
       " 26: 'concatenate',\n",
       " 27: 'binary',\n",
       " 28: 'files',\n",
       " 29: 'where',\n",
       " 30: 'will',\n",
       " 31: 'just',\n",
       " 32: 'sequence',\n",
       " 33: 'a',\n",
       " 34: 'common',\n",
       " 35: 'interactive',\n",
       " 36: 'use',\n",
       " 37: 'for',\n",
       " 38: 'single',\n",
       " 39: 'file',\n",
       " 40: 'is',\n",
       " 41: 'output',\n",
       " 42: 'content',\n",
       " 43: 'standard',\n",
       " 44: 'hear',\n",
       " 45: 'sounds',\n",
       " 46: 'too',\n",
       " 47: 'faint',\n",
       " 48: 'or',\n",
       " 49: 'high',\n",
       " 50: 'frequency',\n",
       " 51: 'human',\n",
       " 52: 'ears',\n",
       " 53: 'such',\n",
       " 54: 'those',\n",
       " 55: 'made',\n",
       " 56: 'by',\n",
       " 57: 'mice',\n",
       " 58: 'and',\n",
       " 59: 'other',\n",
       " 60: 'small',\n",
       " 61: 'animals',\n",
       " 62: 'one',\n",
       " 63: 'people',\n",
       " 64: 'deliberately',\n",
       " 65: 'tamed',\n",
       " 66: 'artificial',\n",
       " 67: 'selection',\n",
       " 68: 'they',\n",
       " 69: 'were',\n",
       " 70: 'useful',\n",
       " 71: 'predators',\n",
       " 72: 'vermin',\n",
       " 73: 'domesticated',\n",
       " 74: 'its',\n",
       " 75: 'closest',\n",
       " 76: 'wild',\n",
       " 77: 'ancestor',\n",
       " 78: 'are',\n",
       " 79: 'both',\n",
       " 80: 'diploid',\n",
       " 81: 'organisms',\n",
       " 82: 'that',\n",
       " 83: 'possess',\n",
       " 84: 'chromosomes',\n",
       " 85: 'roughly',\n",
       " 86: 'genes',\n",
       " 87: 'domestic',\n",
       " 88: 'similar',\n",
       " 89: 'size',\n",
       " 90: 'members',\n",
       " 91: 'genus',\n",
       " 92: 'felis',\n",
       " 93: 'typically',\n",
       " 94: 'weighing',\n",
       " 95: 'between',\n",
       " 96: 'kg',\n",
       " 97: 'lb',\n",
       " 98: 'however',\n",
       " 99: 'if',\n",
       " 100: 'piped',\n",
       " 101: 'redirected',\n",
       " 102: 'unnecessary',\n",
       " 103: 'with',\n",
       " 104: 'named',\n",
       " 105: 'safer',\n",
       " 106: 'error',\n",
       " 107: 'concern',\n",
       " 108: 'wrong',\n",
       " 109: 'default',\n",
       " 110: 'redirection',\n",
       " 111: 'symbol',\n",
       " 112: 'instead',\n",
       " 113: 'often',\n",
       " 114: 'adjacent',\n",
       " 115: 'on',\n",
       " 116: 'keyboards',\n",
       " 117: 'may',\n",
       " 118: 'permanently',\n",
       " 119: 'delete',\n",
       " 120: 'you',\n",
       " 121: 'needing',\n",
       " 122: 'read',\n",
       " 123: 'terms',\n",
       " 124: 'legibility',\n",
       " 125: 'commands',\n",
       " 126: 'starting',\n",
       " 127: 'connected',\n",
       " 128: 'pipes',\n",
       " 129: 'has',\n",
       " 130: 'clear',\n",
       " 131: 'left',\n",
       " 132: 'right',\n",
       " 133: 'flow',\n",
       " 134: 'information',\n",
       " 135: 'command',\n",
       " 136: 'basic',\n",
       " 137: 'learned',\n",
       " 138: 'when',\n",
       " 139: 'started',\n",
       " 140: 'unix',\n",
       " 141: 'linux',\n",
       " 142: 'world',\n",
       " 143: 'using',\n",
       " 144: 'lines',\n",
       " 145: 'received',\n",
       " 146: 'from',\n",
       " 147: 'stdin',\n",
       " 148: 'new',\n",
       " 149: 'symbols',\n",
       " 150: 'type',\n",
       " 151: 'without',\n",
       " 152: 'any',\n",
       " 153: 'arguments',\n",
       " 154: 'receives',\n",
       " 155: 'displays',\n",
       " 156: 'stdout',\n",
       " 157: 'leopard',\n",
       " 158: 'was',\n",
       " 159: 'released',\n",
       " 160: 'october',\n",
       " 161: 'successor',\n",
       " 162: 'tiger',\n",
       " 163: 'version',\n",
       " 164: 'available',\n",
       " 165: 'two',\n",
       " 166: 'editions',\n",
       " 167: 'according',\n",
       " 168: 'apple',\n",
       " 169: 'contains',\n",
       " 170: 'over',\n",
       " 171: 'enhancements',\n",
       " 172: 'predecessor',\n",
       " 173: 'mac',\n",
       " 174: 'os',\n",
       " 175: 'x',\n",
       " 176: 'mid',\n",
       " 177: 'some',\n",
       " 178: 'computers',\n",
       " 179: 'firmware',\n",
       " 180: 'factory',\n",
       " 181: 'installed',\n",
       " 182: 'which',\n",
       " 183: 'no',\n",
       " 184: 'longer',\n",
       " 185: 'allow',\n",
       " 186: 'installation',\n",
       " 187: 'since',\n",
       " 188: 'moved',\n",
       " 189: 'intel',\n",
       " 190: 'processors',\n",
       " 191: 'their',\n",
       " 192: 'osx',\n",
       " 193: 'community',\n",
       " 194: 'developed',\n",
       " 195: 'now',\n",
       " 196: 'allows',\n",
       " 197: 'later',\n",
       " 198: 'releases',\n",
       " 199: 'non',\n",
       " 200: 'based',\n",
       " 201: 'mountain',\n",
       " 202: 'lion',\n",
       " 203: 'july',\n",
       " 204: 'purchase',\n",
       " 205: 'download',\n",
       " 206: 'through',\n",
       " 207: 's',\n",
       " 208: 'app',\n",
       " 209: 'store',\n",
       " 210: 'part',\n",
       " 211: 'switch',\n",
       " 212: 'releasing',\n",
       " 213: 'versions',\n",
       " 214: 'online',\n",
       " 215: 'every',\n",
       " 216: 'year',\n",
       " 217: 'patch',\n",
       " 218: 'three',\n",
       " 219: 'most',\n",
       " 220: 'recent',\n",
       " 221: 'safari',\n",
       " 222: 'running',\n",
       " 223: 'yosemite',\n",
       " 224: 'mavericks',\n",
       " 225: 'release',\n",
       " 226: 'marks',\n",
       " 227: 'second',\n",
       " 228: 'time',\n",
       " 229: 'offered',\n",
       " 230: 'an',\n",
       " 231: 'incremental',\n",
       " 232: 'upgrade',\n",
       " 233: 'rather',\n",
       " 234: 'than',\n",
       " 235: 'entirely',\n",
       " 236: 'installs',\n",
       " 237: 'place',\n",
       " 238: 'so',\n",
       " 239: 'won',\n",
       " 240: 't',\n",
       " 241: 'need',\n",
       " 242: 'create',\n",
       " 243: 'separate',\n",
       " 244: 'disk',\n",
       " 245: 'run',\n",
       " 246: 'off',\n",
       " 247: 'external',\n",
       " 248: 'drive',\n",
       " 249: 'fifth',\n",
       " 250: 'update',\n",
       " 251: 'features',\n",
       " 252: 'more',\n",
       " 253: 'count'}"
      ]
     },
     "execution_count": 184,
     "metadata": {},
     "output_type": "execute_result"
    }
   ],
   "source": [
    "word_i_to_word = dict()\n",
    "for w, i in all_words.iteritems():\n",
    "    word_i_to_word[i] = w\n",
    "word_i_to_word"
   ]
  },
  {
   "cell_type": "code",
   "execution_count": 186,
   "metadata": {},
   "outputs": [],
   "source": [
    "def print_equal_words(line_i):\n",
    "    for w_i in equal_words(line_i):\n",
    "        print word_i_to_word[w_i]"
   ]
  },
  {
   "cell_type": "code",
   "execution_count": 191,
   "metadata": {},
   "outputs": [
    {
     "name": "stdout",
     "output_type": "stream",
     "text": [
      "in\n",
      "the\n"
     ]
    }
   ],
   "source": [
    "print_equal_words(10)"
   ]
  },
  {
   "cell_type": "code",
   "execution_count": null,
   "metadata": {},
   "outputs": [],
   "source": []
  }
 ],
 "metadata": {
  "kernelspec": {
   "display_name": "Python 2",
   "language": "python",
   "name": "python2"
  },
  "language_info": {
   "codemirror_mode": {
    "name": "ipython",
    "version": 2
   },
   "file_extension": ".py",
   "mimetype": "text/x-python",
   "name": "python",
   "nbconvert_exporter": "python",
   "pygments_lexer": "ipython2",
   "version": "2.7.15"
  }
 },
 "nbformat": 4,
 "nbformat_minor": 2
}
